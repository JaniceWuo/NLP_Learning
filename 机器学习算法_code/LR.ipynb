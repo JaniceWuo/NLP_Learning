{
 "cells": [
  {
   "cell_type": "markdown",
   "metadata": {},
   "source": [
    "<script type=\"text/javascript\" src=\"http://cdn.mathjax.org/mathjax/latest/MathJax.js?config=default\"></script>\n",
    "逻辑回归的因变量是0/1二分类，运用了sigmoid函数将原本的数映射为0/1，所以逻辑回归模型的基本形式为：<br/>\n",
    "$$y=\\frac{1}{1+e^{-(w^Tx+b)}}$$\n",
    "有p(y=1|x)=$\\frac{1}{1+e^{-(w^Tx+b)}}$,p(y=0|x)=1-p(y=1|x)=1-$\\frac{1}{1+e^{-(w^Tx+b)}}$ .    若令p(y=1|x)=$\\hat{y}$,则p(y=0|x)=1-$\\hat{y}$,那么p(y|x)=$\\hat{y}^y(1-\\hat{y})^{1-y}$,写成对数形式：$$L=\\ln{p(y|x)}=y\\ln{\\hat{y}}+(1-y)\\ln{(1-\\hat{y})}$$\n",
    "上式也是交叉熵损失函数，所以LR的损失函数就是交叉熵损失函数。<br/>\n",
    "分别对w和b求导，进行梯度更新即可求得参数的极大似然估计。一般数据都有多个样本，假设样本数为m，则有\n",
    "$$\\frac{\\partial{L}}{\\partial{w}}=\\frac{1}{m}x(\\hat{y}-y)$$\n",
    "$$\\frac{\\partial{L}}{\\partial{b}}=\\frac{1}{m}\\sum_{i=1}^{m}(\\hat{y}-y)$$"
   ]
  },
  {
   "cell_type": "code",
   "execution_count": 39,
   "metadata": {
    "collapsed": false
   },
   "outputs": [
    {
     "data": {
      "image/png": "[encoded data removed]",
      "text/plain": [
       "<matplotlib.figure.Figure at 0x28e997d56a0>"
      ]
     },
     "metadata": {},
     "output_type": "display_data"
    }
   ],
   "source": [
    "#生成数据\n",
    "import matplotlib.pyplot as plt\n",
    "import numpy as np\n",
    "from sklearn.datasets.samples_generator import make_classification\n",
    "X,labels=make_classification(n_samples=100, n_features=2, n_redundant=0, n_informative=2, random_state=1, n_clusters_per_class=2)\n",
    "rng=np.random.RandomState(2)\n",
    "X+=2*rng.uniform(size=X.shape)\n",
    "plt.scatter(X[:, 0], X[:, 1], marker='o', c=labels)\n",
    "plt.show()\n",
    "# print(X.shape)  #100个样本\n",
    "# # print(X)\n"
   ]
  },
  {
   "cell_type": "code",
   "execution_count": 70,
   "metadata": {
    "collapsed": false
   },
   "outputs": [
    {
     "name": "stdout",
     "output_type": "stream",
     "text": [
      "[[0]\n",
      " [1]\n",
      " [1]\n",
      " [0]\n",
      " [1]\n",
      " [1]\n",
      " [0]\n",
      " [0]\n",
      " [1]\n",
      " [0]]\n",
      "X_train= (90, 2)\n",
      "X_test= (10, 2)\n",
      "y_train= (90, 1)\n",
      "y_test= (10, 1)\n"
     ]
    }
   ],
   "source": [
    "offset = int(X.shape[0] * 0.9)\n",
    "X_train, y_train = X[:offset], labels[:offset]\n",
    "X_test, y_test = X[offset:], labels[offset:]\n",
    "y_train = y_train.reshape((-1,1))\n",
    "y_test = y_test.reshape((-1,1))\n",
    "print(y_test)\n",
    "print('X_train=', X_train.shape)\n",
    "print('X_test=', X_test.shape)\n",
    "print('y_train=', y_train.shape)\n",
    "print('y_test=', y_test.shape)"
   ]
  },
  {
   "cell_type": "code",
   "execution_count": 41,
   "metadata": {
    "collapsed": true
   },
   "outputs": [],
   "source": [
    "#先定义sigmoid函数\n",
    "def sigmoid(x):\n",
    "    z = 1 / (1 + np.exp(-x))    \n",
    "    return z"
   ]
  },
  {
   "cell_type": "code",
   "execution_count": 42,
   "metadata": {
    "collapsed": true
   },
   "outputs": [],
   "source": [
    "#初始化w,b\n",
    "def initialize_params(dims):\n",
    "    W = np.zeros((dims, 1))\n",
    "    b = 0\n",
    "    return W, b"
   ]
  },
  {
   "cell_type": "code",
   "execution_count": 54,
   "metadata": {
    "collapsed": true
   },
   "outputs": [],
   "source": [
    "#定义逻辑回归函数主体\n",
    "def logistic(X,y,w,b):\n",
    "    num_train =  X.shape[0]\n",
    "#     print(w.shape,X.shape)\n",
    "    a = np.dot(X,w)+b\n",
    "    sigmoid_a = sigmoid(a)\n",
    "    cost = -1/num_train * (y*np.log(sigmoid_a) + (1-y)*np.log(1-sigmoid_a))\n",
    "    dW = np.dot(X.T,(sigmoid_a-y))/num_train\n",
    "    db = np.sum(sigmoid_a-y)/num_train\n",
    "    cost_function = np.squeeze(cost)\n",
    "    return sigmoid_a,cost_function,dW,db"
   ]
  },
  {
   "cell_type": "code",
   "execution_count": 58,
   "metadata": {
    "collapsed": true
   },
   "outputs": [],
   "source": [
    "#参数更新\n",
    "def train(X,y,learning_rate,epochs):\n",
    "    w,b = initialize_params(X.shape[1])\n",
    "    cost_list = []\n",
    "    for i in range(epochs):\n",
    "        a,cost,dW,db = logistic(X,y,w,b)\n",
    "        w = w - learning_rate * dW\n",
    "        b = b - learning_rate * db\n",
    "        if i % 100 == 0:\n",
    "            cost_list.append(cost)\n",
    "        if i % 100 == 0:\n",
    "            print('epoch %d cost %f' % (i, np.mean(cost_list))) \n",
    "    params = {\n",
    "        'W':w,\n",
    "        'b':b\n",
    "    }\n",
    "    grads = {\n",
    "        'dW':dW,\n",
    "        'db':db\n",
    "    }\n",
    "    return cost_list, params, grads"
   ]
  },
  {
   "cell_type": "code",
   "execution_count": 63,
   "metadata": {
    "collapsed": true
   },
   "outputs": [],
   "source": [
    "def predict(X,params):\n",
    "    y_prediction = sigmoid(np.dot(X, params['W']) + params['b'])\n",
    "#     print(len(y_prediction))\n",
    "    for i in range(len(y_prediction)):\n",
    "        if y_prediction[i] > 0.5:\n",
    "            y_prediction[i] = 1\n",
    "        else:\n",
    "            y_prediction[i] = 0\n",
    "    return y_prediction"
   ]
  },
  {
   "cell_type": "code",
   "execution_count": 60,
   "metadata": {
    "collapsed": false
   },
   "outputs": [
    {
     "name": "stdout",
     "output_type": "stream",
     "text": [
      "epoch 0 cost 0.007702\n",
      "epoch 100 cost 0.006929\n",
      "epoch 200 cost 0.006401\n",
      "epoch 300 cost 0.006008\n",
      "epoch 400 cost 0.005701\n",
      "epoch 500 cost 0.005451\n",
      "epoch 600 cost 0.005243\n",
      "epoch 700 cost 0.005066\n",
      "epoch 800 cost 0.004913\n",
      "epoch 900 cost 0.004778\n",
      "epoch 1000 cost 0.004659\n",
      "epoch 1100 cost 0.004553\n"
     ]
    }
   ],
   "source": [
    "cost_list, params, grads = train(X_train, y_train, 0.01, 1200)"
   ]
  },
  {
   "cell_type": "code",
   "execution_count": 74,
   "metadata": {
    "collapsed": true
   },
   "outputs": [],
   "source": [
    "#计算分类准确率\n",
    "def acc(y_true,y_pred):\n",
    "    correct_num = 0\n",
    "    for i in range(len(y_true)):\n",
    "        if y_true[i] == y_pred[i]:\n",
    "            correct_num+=1\n",
    "    accuracy_score = correct_num / len(y_true) \n",
    "    return accuracy_score"
   ]
  },
  {
   "cell_type": "code",
   "execution_count": 75,
   "metadata": {
    "collapsed": false
   },
   "outputs": [
    {
     "name": "stdout",
     "output_type": "stream",
     "text": [
      "0.8888888888888888\n"
     ]
    }
   ],
   "source": [
    "y_train_predict = predict(X_train,params)\n",
    "# print(y_train)\n",
    "train_predacc = acc(y_train,y_train_predict)\n",
    "print(train_predacc)"
   ]
  },
  {
   "cell_type": "code",
   "execution_count": 66,
   "metadata": {
    "collapsed": false
   },
   "outputs": [
    {
     "name": "stdout",
     "output_type": "stream",
     "text": [
      "[[0.]\n",
      " [1.]\n",
      " [1.]\n",
      " [0.]\n",
      " [1.]\n",
      " [1.]\n",
      " [0.]\n",
      " [0.]\n",
      " [1.]\n",
      " [0.]]\n",
      "(10, 1)\n"
     ]
    }
   ],
   "source": [
    "y_prediction = predict(X_test, params)  #用测试集来预测\n",
    "print(y_prediction)\n",
    "print(y_prediction.shape)"
   ]
  },
  {
   "cell_type": "code",
   "execution_count": 76,
   "metadata": {
    "collapsed": false
   },
   "outputs": [
    {
     "name": "stdout",
     "output_type": "stream",
     "text": [
      "1.0\n"
     ]
    }
   ],
   "source": [
    "accuracy_score_train = acc(y_test, y_prediction)\n",
    "print(accuracy_score_train)"
   ]
  },
  {
   "cell_type": "code",
   "execution_count": 80,
   "metadata": {
    "collapsed": false
   },
   "outputs": [
    {
     "data": {
      "image/png": "[encoded data removed]",
      "text/plain": [
       "<matplotlib.figure.Figure at 0x28e997494a8>"
      ]
     },
     "metadata": {},
     "output_type": "display_data"
    }
   ],
   "source": [
    "#模型可视化\n",
    "def plot_logistic(X_train, y_train, params):\n",
    "    n = X_train.shape[0]\n",
    "    xcord1 = []\n",
    "    ycord1 = []\n",
    "    xcord2 = []\n",
    "    ycord2 = []    \n",
    "    for i in range(n):        \n",
    "        if y_train[i] == 1:\n",
    "            xcord1.append(X_train[i][0])\n",
    "            ycord1.append(X_train[i][1])        \n",
    "        else:\n",
    "            xcord2.append(X_train[i][0])\n",
    "            ycord2.append(X_train[i][1])\n",
    "        \n",
    "    fig = plt.figure()\n",
    "    ax = fig.add_subplot(111)\n",
    "    ax.scatter(xcord1, ycord1,s=32, c='red')\n",
    "    ax.scatter(xcord2, ycord2, s=32, c='green')\n",
    "    x = np.arange(-1.5, 3, 0.1)\n",
    "    y = -(params['b'] + params['W'][0] * x) / params['W'][1]\n",
    "    ax.plot(x, y)\n",
    "    plt.xlabel('X1')\n",
    "    plt.ylabel('X2')\n",
    "    plt.show()\n",
    "\n",
    "plot_logistic(X_train, y_train, params)"
   ]
  }
 ],
 "metadata": {
  "anaconda-cloud": {},
  "kernelspec": {
   "display_name": "Python [conda env:ZombieFan]",
   "language": "python",
   "name": "conda-env-ZombieFan-py"
  },
  "language_info": {
   "codemirror_mode": {
    "name": "ipython",
    "version": 3
   },
   "file_extension": ".py",
   "mimetype": "text/x-python",
   "name": "python",
   "nbconvert_exporter": "python",
   "pygments_lexer": "ipython3",
   "version": "3.5.4"
  }
 },
 "nbformat": 4,
 "nbformat_minor": 1
}
